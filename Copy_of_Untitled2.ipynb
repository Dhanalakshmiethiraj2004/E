{
  "nbformat": 4,
  "nbformat_minor": 0,
  "metadata": {
    "colab": {
      "provenance": [],
      "authorship_tag": "ABX9TyOTZuCLBh5zy/lBl5emc0Wi",
      "include_colab_link": true
    },
    "kernelspec": {
      "name": "python3",
      "display_name": "Python 3"
    },
    "language_info": {
      "name": "python"
    }
  },
  "cells": [
    {
      "cell_type": "markdown",
      "metadata": {
        "id": "view-in-github",
        "colab_type": "text"
      },
      "source": [
        "<a href=\"https://colab.research.google.com/github/Dhanalakshmiethiraj2004/E/blob/main/Copy_of_Untitled2.ipynb\" target=\"_parent\"><img src=\"https://colab.research.google.com/assets/colab-badge.svg\" alt=\"Open In Colab\"/></a>"
      ]
    },
    {
      "cell_type": "markdown",
      "source": [
        "CLASSIFICATION ANALYSIS OF DATA PREDICATION"
      ],
      "metadata": {
        "id": "wokdm-JRqcxS"
      }
    },
    {
      "cell_type": "markdown",
      "source": [
        "The digits dataset consist of 8*8 pixel images of digits.  The images attributr of thr datset stores 8*8 arrays of gray scale values for each image.  We will use these arrays to visuallze the first 4 images.  The target attribute of the dataset stores the digit each images represents."
      ],
      "metadata": {
        "id": "TG18aM6kqS_9"
      }
    },
    {
      "cell_type": "markdown",
      "source": [
        "Import Data"
      ],
      "metadata": {
        "id": "aCfouzmdqp-C"
      }
    },
    {
      "cell_type": "code",
      "source": [
        "import pandas as pd"
      ],
      "metadata": {
        "id": "6MPjSfKIwlm8"
      },
      "execution_count": null,
      "outputs": []
    },
    {
      "cell_type": "code",
      "source": [
        "import numpy as np"
      ],
      "metadata": {
        "id": "NHHQD3QHy13m"
      },
      "execution_count": null,
      "outputs": []
    },
    {
      "cell_type": "code",
      "source": [
        "import matplotlib.pyplot as plt"
      ],
      "metadata": {
        "id": "Ek2s47fCy_Pd"
      },
      "execution_count": null,
      "outputs": []
    },
    {
      "cell_type": "markdown",
      "source": [
        "Import Data"
      ],
      "metadata": {
        "id": "mfUkIQ-7zMk9"
      }
    },
    {
      "cell_type": "code",
      "source": [
        "from sklearn.datasets import load_digits"
      ],
      "metadata": {
        "id": "53oMSgZOzQ5G"
      },
      "execution_count": null,
      "outputs": []
    },
    {
      "cell_type": "code",
      "source": [
        "df=load_digits()"
      ],
      "metadata": {
        "id": "dAwLUO0mzdb1"
      },
      "execution_count": null,
      "outputs": []
    },
    {
      "cell_type": "markdown",
      "source": [
        "Describe Data"
      ],
      "metadata": {
        "id": "OgigP5Db4WFf"
      }
    },
    {
      "cell_type": "code",
      "source": [
        "df.images[0].shape"
      ],
      "metadata": {
        "colab": {
          "base_uri": "https://localhost:8080/"
        },
        "id": "E8Z6qQxc4v4K",
        "outputId": "06ab90cc-f898-455f-a52b-bbab8b1527fe",
        "collapsed": true
      },
      "execution_count": null,
      "outputs": [
        {
          "output_type": "execute_result",
          "data": {
            "text/plain": [
              "(8, 8)"
            ]
          },
          "metadata": {},
          "execution_count": 14
        }
      ]
    },
    {
      "cell_type": "markdown",
      "source": [
        "Data Visualization"
      ],
      "metadata": {
        "id": "pocjpHDht4ly"
      }
    },
    {
      "cell_type": "code",
      "source": [
        "import pandas as pd\n",
        "import scipy\n",
        "import numpy as np\n",
        "from sklearn.preprocessing import MinMaxScaler\n",
        "import seaborn as sns\n",
        "import matplotlib.pyplot as plt"
      ],
      "metadata": {
        "id": "ZqVPmBDYd85B"
      },
      "execution_count": null,
      "outputs": []
    },
    {
      "cell_type": "markdown",
      "source": [
        "Data Preprocessing"
      ],
      "metadata": {
        "id": "JSlpizfMeDkU"
      }
    },
    {
      "cell_type": "code",
      "source": [
        "import pandas as pd\n",
        "import scipy\n",
        "import numpy as np\n",
        "from sklearn.preprocessing import MinMaxScaler\n",
        "import seaborn as sns\n",
        "import matplotlib.pyplot as plt"
      ],
      "metadata": {
        "id": "vraGxbDNftN8"
      },
      "execution_count": null,
      "outputs": []
    },
    {
      "cell_type": "markdown",
      "source": [
        "Define target Variable(y) and feature variables(x)"
      ],
      "metadata": {
        "id": "DugW1HLjfyNA"
      }
    },
    {
      "cell_type": "code",
      "source": [
        "# Define a recursive function to add two numbers\n",
        "def add_numbers_recursive(x, y):\n",
        "    if y == 0:\n",
        "        return x\n",
        "    else:\n",
        "        return add_numbers_recursive(x + 1, y - 1)\n",
        "\n",
        "# Take input from the user\n",
        "num1 = 1\n",
        "num2 = 2\n",
        "\n",
        "# Call the recursive function to add the two numbers\n",
        "result = add_numbers_recursive(num1, num2)\n",
        "\n",
        "# Print the result\n",
        "print(\"The sum of\", num1, \"and\", num2, \"is\", result)"
      ],
      "metadata": {
        "colab": {
          "base_uri": "https://localhost:8080/"
        },
        "id": "uPXnfgaYgCbW",
        "outputId": "f6e6b49d-c6a8-492b-e228-502996ffea98",
        "collapsed": true
      },
      "execution_count": null,
      "outputs": [
        {
          "output_type": "stream",
          "name": "stdout",
          "text": [
            "The sum of 1 and 2 is 3\n"
          ]
        }
      ]
    },
    {
      "cell_type": "markdown",
      "source": [
        "Train test split"
      ],
      "metadata": {
        "id": "4W-WCqD4gwd8"
      }
    },
    {
      "cell_type": "code",
      "source": [
        "from sklearn.model_selection import train_test_split"
      ],
      "metadata": {
        "id": "XZguzzqgg2iw"
      },
      "execution_count": null,
      "outputs": []
    },
    {
      "cell_type": "markdown",
      "source": [
        "Modeling"
      ],
      "metadata": {
        "id": "L4PQRsk2h06_"
      }
    },
    {
      "cell_type": "code",
      "source": [
        "from sklearn.ensemble import RandomForestClassifier"
      ],
      "metadata": {
        "id": "d44UnKOCh7Zb"
      },
      "execution_count": null,
      "outputs": []
    },
    {
      "cell_type": "code",
      "source": [
        "rf=RandomForestClassifier()"
      ],
      "metadata": {
        "id": "kEwBtyo6iN1O"
      },
      "execution_count": null,
      "outputs": []
    },
    {
      "cell_type": "markdown",
      "source": [
        "Modeling Evaluation"
      ],
      "metadata": {
        "id": "6dS38xOqi5Jj"
      }
    },
    {
      "cell_type": "code",
      "source": [
        "from sklearn.metrics import confusion_matrix, classification_report"
      ],
      "metadata": {
        "id": "TMSyNJUcojGm"
      },
      "execution_count": null,
      "outputs": []
    },
    {
      "cell_type": "markdown",
      "source": [
        "Prediction\n"
      ],
      "metadata": {
        "id": "TQowSaRiqjqQ"
      }
    },
    {
      "cell_type": "code",
      "source": [
        "print(b'Easy\\xE2\\x9c\\x85'.decode(\"utf-8\"))"
      ],
      "metadata": {
        "id": "X88wLlORtL2f",
        "colab": {
          "base_uri": "https://localhost:8080/"
        },
        "outputId": "e6980acd-0bd1-4a59-debe-aba4caa8603e",
        "collapsed": true
      },
      "execution_count": null,
      "outputs": [
        {
          "output_type": "stream",
          "name": "stdout",
          "text": [
            "Easy✅\n"
          ]
        }
      ]
    }
  ]
}